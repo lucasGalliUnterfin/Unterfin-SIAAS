{
 "cells": [
  {
   "cell_type": "code",
   "execution_count": null,
   "id": "c11fddec",
   "metadata": {},
   "outputs": [],
   "source": [
    "import sdmx"
   ]
  },
  {
   "cell_type": "markdown",
   "id": "db2fa6f1",
   "metadata": {},
   "source": [
    "https://sdmx1.readthedocs.io/en/v2.22.0/example.html"
   ]
  },
  {
   "cell_type": "code",
   "execution_count": 15,
   "id": "ca025ea2",
   "metadata": {},
   "outputs": [
    {
     "name": "stdout",
     "output_type": "stream",
     "text": [
      "<sdmx.StructureMessage>\n",
      "  <Header>\n",
      "    id: 'DSD1749790904'\n",
      "    prepared: '2025-06-13T05:01:44.830000+00:00'\n",
      "    sender: <Agency ESTAT>\n",
      "    source: \n",
      "    test: False\n",
      "  response: <Response [200]>\n",
      "  Codelist (7): FREQ AGE UNIT SEX GEO OBS_FLAG CONF_STATUS\n",
      "  ConceptScheme (1): UNE_RT_A\n",
      "  DataStructureDefinition (1): UNE_RT_A\n"
     ]
    }
   ],
   "source": [
    "#Eurostat\n",
    "estat = sdmx.Client(\"ESTAT\")\n",
    "\n",
    "#Identificador del flujo de datos de desempleo de Eurostat\n",
    "dataFlowID = \"UNE_RT_A\"\n",
    "\n",
    "sm = estat.datastructure(dataFlowID, params=dict(references=\"descendants\"))\n",
    "print(sm)"
   ]
  },
  {
   "cell_type": "markdown",
   "id": "2612fecd",
   "metadata": {},
   "source": [
    "El flujo de datos de identifcador \"UNE_RT-A\" tiene un Data Structure Definition (DSD), la cual podemos obtener con el snippet anterior."
   ]
  },
  {
   "cell_type": "code",
   "execution_count": null,
   "id": "82233368",
   "metadata": {},
   "outputs": [],
   "source": []
  }
 ],
 "metadata": {
  "kernelspec": {
   "display_name": "Python 3",
   "language": "python",
   "name": "python3"
  },
  "language_info": {
   "codemirror_mode": {
    "name": "ipython",
    "version": 3
   },
   "file_extension": ".py",
   "mimetype": "text/x-python",
   "name": "python",
   "nbconvert_exporter": "python",
   "pygments_lexer": "ipython3",
   "version": "3.10.11"
  }
 },
 "nbformat": 4,
 "nbformat_minor": 5
}
